{
 "cells": [
  {
   "cell_type": "code",
   "execution_count": 1,
   "id": "232d4341",
   "metadata": {},
   "outputs": [],
   "source": [
    "import numpy as np\n",
    "import pandas as pd \n",
    "from matplotlib import pyplot as plt\n",
    "import time"
   ]
  },
  {
   "cell_type": "code",
   "execution_count": 2,
   "id": "d7a6baa4",
   "metadata": {},
   "outputs": [],
   "source": [
    "from sklearn.metrics import *\n",
    "from sklearn.model_selection import *"
   ]
  },
  {
   "cell_type": "code",
   "execution_count": 3,
   "id": "d03828f4",
   "metadata": {},
   "outputs": [
    {
     "data": {
      "text/html": [
       "<div>\n",
       "<style scoped>\n",
       "    .dataframe tbody tr th:only-of-type {\n",
       "        vertical-align: middle;\n",
       "    }\n",
       "\n",
       "    .dataframe tbody tr th {\n",
       "        vertical-align: top;\n",
       "    }\n",
       "\n",
       "    .dataframe thead th {\n",
       "        text-align: right;\n",
       "    }\n",
       "</style>\n",
       "<table border=\"1\" class=\"dataframe\">\n",
       "  <thead>\n",
       "    <tr style=\"text-align: right;\">\n",
       "      <th></th>\n",
       "      <th>feature0</th>\n",
       "      <th>feature1</th>\n",
       "      <th>feature2</th>\n",
       "      <th>feature3</th>\n",
       "      <th>feature4</th>\n",
       "      <th>class</th>\n",
       "    </tr>\n",
       "  </thead>\n",
       "  <tbody>\n",
       "    <tr>\n",
       "      <th>0</th>\n",
       "      <td>4.115910</td>\n",
       "      <td>8.678126</td>\n",
       "      <td>16.010297</td>\n",
       "      <td>5.731837</td>\n",
       "      <td>18.907271</td>\n",
       "      <td>A</td>\n",
       "    </tr>\n",
       "    <tr>\n",
       "      <th>1</th>\n",
       "      <td>1.993343</td>\n",
       "      <td>8.920002</td>\n",
       "      <td>15.332958</td>\n",
       "      <td>10.389251</td>\n",
       "      <td>0.023662</td>\n",
       "      <td>A</td>\n",
       "    </tr>\n",
       "    <tr>\n",
       "      <th>2</th>\n",
       "      <td>0.095994</td>\n",
       "      <td>8.847990</td>\n",
       "      <td>7.292827</td>\n",
       "      <td>4.059212</td>\n",
       "      <td>7.914817</td>\n",
       "      <td>A</td>\n",
       "    </tr>\n",
       "    <tr>\n",
       "      <th>3</th>\n",
       "      <td>3.808525</td>\n",
       "      <td>8.726179</td>\n",
       "      <td>13.842177</td>\n",
       "      <td>9.997444</td>\n",
       "      <td>0.178466</td>\n",
       "      <td>A</td>\n",
       "    </tr>\n",
       "    <tr>\n",
       "      <th>4</th>\n",
       "      <td>4.554317</td>\n",
       "      <td>8.850917</td>\n",
       "      <td>15.659514</td>\n",
       "      <td>8.053744</td>\n",
       "      <td>0.341788</td>\n",
       "      <td>A</td>\n",
       "    </tr>\n",
       "  </tbody>\n",
       "</table>\n",
       "</div>"
      ],
      "text/plain": [
       "   feature0  feature1   feature2   feature3   feature4 class\n",
       "0  4.115910  8.678126  16.010297   5.731837  18.907271     A\n",
       "1  1.993343  8.920002  15.332958  10.389251   0.023662     A\n",
       "2  0.095994  8.847990   7.292827   4.059212   7.914817     A\n",
       "3  3.808525  8.726179  13.842177   9.997444   0.178466     A\n",
       "4  4.554317  8.850917  15.659514   8.053744   0.341788     A"
      ]
     },
     "execution_count": 3,
     "metadata": {},
     "output_type": "execute_result"
    }
   ],
   "source": [
    "df = pd.read_csv('train_nov28_task1.csv') #讀入訓練資料\n",
    "df.head()"
   ]
  },
  {
   "cell_type": "code",
   "execution_count": 4,
   "id": "5ecb3712",
   "metadata": {},
   "outputs": [],
   "source": [
    "y = df['class'] #訓練資料分類結果\n",
    "X = df.drop('class', axis = 1) #X中留下features"
   ]
  },
  {
   "cell_type": "code",
   "execution_count": 5,
   "id": "548c9bbd",
   "metadata": {},
   "outputs": [],
   "source": [
    "#訓練資料分割成0.85訓練、0.15測試\n",
    "X1, X2, y1, y2 = train_test_split(X, y, random_state=0, train_size=0.85, test_size=0.15)"
   ]
  },
  {
   "cell_type": "code",
   "execution_count": 18,
   "id": "2c8cd218",
   "metadata": {},
   "outputs": [
    {
     "data": {
      "text/plain": [
       "{'n_estimators': [1000, 2000, 3000, 4000, 5000, 6000, 7000, 8000, 9000, 10000],\n",
       " 'max_features': ['auto', 'sqrt', 'log2'],\n",
       " 'max_depth': [None],\n",
       " 'min_samples_split': [2],\n",
       " 'min_samples_leaf': [1],\n",
       " 'bootstrap': [False]}"
      ]
     },
     "execution_count": 18,
     "metadata": {},
     "output_type": "execute_result"
    }
   ],
   "source": [
    "from sklearn.model_selection import RandomizedSearchCV\n",
    "from sklearn.ensemble import RandomForestClassifier\n",
    "#建立參數的各自區間\n",
    "n_estimators = [int(x) for x in np.linspace(start=1000, stop=10000, num=10)]\n",
    "max_features = ['auto', 'sqrt', 'log2']\n",
    "\n",
    "max_depth = [None]\n",
    "min_samples_split = [2]\n",
    "min_samples_leaf = [1]\n",
    "bootstrap = [False]\n",
    "\n",
    "random_grid = {'n_estimators': n_estimators, 'max_features': max_features,\n",
    "               'max_depth': max_depth, 'min_samples_split': min_samples_split,\n",
    "               'min_samples_leaf': min_samples_leaf, 'bootstrap': bootstrap}\n",
    "random_grid\n"
   ]
  },
  {
   "cell_type": "code",
   "execution_count": 19,
   "id": "2217edb5",
   "metadata": {},
   "outputs": [
    {
     "name": "stderr",
     "output_type": "stream",
     "text": [
      "C:\\Users\\ASUS\\anaconda3\\lib\\site-packages\\sklearn\\model_selection\\_search.py:306: UserWarning: The total space of parameters 30 is smaller than n_iter=100. Running 30 iterations. For exhaustive searches, use GridSearchCV.\n",
      "  warnings.warn(\n"
     ]
    },
    {
     "name": "stdout",
     "output_type": "stream",
     "text": [
      "Fitting 3 folds for each of 30 candidates, totalling 90 fits\n"
     ]
    },
    {
     "name": "stderr",
     "output_type": "stream",
     "text": [
      "C:\\Users\\ASUS\\anaconda3\\lib\\site-packages\\sklearn\\ensemble\\_forest.py:425: FutureWarning: `max_features='auto'` has been deprecated in 1.1 and will be removed in 1.3. To keep the past behaviour, explicitly set `max_features='sqrt'` or remove this parameter as it is also the default value for RandomForestClassifiers and ExtraTreesClassifiers.\n",
      "  warn(\n"
     ]
    },
    {
     "data": {
      "text/plain": [
       "{'n_estimators': 6000,\n",
       " 'min_samples_split': 2,\n",
       " 'min_samples_leaf': 1,\n",
       " 'max_features': 'auto',\n",
       " 'max_depth': None,\n",
       " 'bootstrap': False}"
      ]
     },
     "execution_count": 19,
     "metadata": {},
     "output_type": "execute_result"
    }
   ],
   "source": [
    "#用RandomizedSearchCV來找對訓練資料而言最好的參數\n",
    "forest2 = RandomForestClassifier(random_state=42)\n",
    "rf_random = RandomizedSearchCV(estimator = forest2, param_distributions=random_grid,\n",
    "                              n_iter=100, cv=3, verbose=2, random_state=42, n_jobs=-1)\n",
    "\n",
    "rf_random.fit(X1,y1)\n",
    "rf_random.best_params_"
   ]
  },
  {
   "cell_type": "code",
   "execution_count": 20,
   "id": "377725d7",
   "metadata": {},
   "outputs": [
    {
     "name": "stdout",
     "output_type": "stream",
     "text": [
      "0.9425925925925925\n"
     ]
    }
   ],
   "source": [
    "#用RandomizedSearchCV找到的最好的參數做訓練\n",
    "from sklearn.ensemble import RandomForestClassifier\n",
    "\n",
    "RFC_pred = RandomForestClassifier(n_estimators = 6000,\n",
    " min_samples_split = 2,\n",
    " min_samples_leaf = 1,\n",
    " max_features = 'sqrt',\n",
    " max_depth = None,\n",
    " bootstrap = False).fit(X1, y1).predict(X2) \n",
    "print(accuracy_score(y2, RFC_pred))"
   ]
  },
  {
   "cell_type": "code",
   "execution_count": 21,
   "id": "fc7c318d",
   "metadata": {},
   "outputs": [],
   "source": [
    "df_test = pd.read_csv('test_nov28_task1_only_features.csv') #讀入測試資料"
   ]
  },
  {
   "cell_type": "code",
   "execution_count": 22,
   "id": "d2f1769c",
   "metadata": {},
   "outputs": [],
   "source": [
    "#用RandomizedSearchCV找到的最好的參數訓練並預測\n",
    "RFC_pred_fianl = RandomForestClassifier(n_estimators = 6000,\n",
    " min_samples_split = 2,\n",
    " min_samples_leaf = 1,\n",
    " max_features = 'sqrt',\n",
    " max_depth = None,\n",
    " bootstrap = False).fit(X, y).predict(df_test) "
   ]
  },
  {
   "cell_type": "code",
   "execution_count": 23,
   "id": "b3688ab1",
   "metadata": {},
   "outputs": [],
   "source": [
    "import csv"
   ]
  },
  {
   "cell_type": "code",
   "execution_count": 24,
   "id": "32a3b1ae",
   "metadata": {},
   "outputs": [],
   "source": [
    "#寫入csv\n",
    "with open('output_RFC_2.csv', 'w', newline='') as csvfile:\n",
    "  \n",
    "    writer = csv.writer(csvfile)\n",
    "\n",
    "    writer.writerow(['Id', 'Category'])\n",
    "\n",
    "    for i in range(len(RFC_pred_fianl)):\n",
    "        writer.writerow([i + 1, RFC_pred_fianl[i]])"
   ]
  },
  {
   "cell_type": "code",
   "execution_count": null,
   "id": "2820b667",
   "metadata": {},
   "outputs": [],
   "source": []
  }
 ],
 "metadata": {
  "kernelspec": {
   "display_name": "Python 3 (ipykernel)",
   "language": "python",
   "name": "python3"
  },
  "language_info": {
   "codemirror_mode": {
    "name": "ipython",
    "version": 3
   },
   "file_extension": ".py",
   "mimetype": "text/x-python",
   "name": "python",
   "nbconvert_exporter": "python",
   "pygments_lexer": "ipython3",
   "version": "3.9.13"
  }
 },
 "nbformat": 4,
 "nbformat_minor": 5
}
