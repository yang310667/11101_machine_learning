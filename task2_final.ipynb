{
 "cells": [
  {
   "cell_type": "code",
   "execution_count": 1,
   "id": "232d4341",
   "metadata": {},
   "outputs": [],
   "source": [
    "import numpy as np\n",
    "import pandas as pd \n",
    "from matplotlib import pyplot as plt\n",
    "import seaborn as sns\n",
    "import time"
   ]
  },
  {
   "cell_type": "code",
   "execution_count": 2,
   "id": "d7a6baa4",
   "metadata": {},
   "outputs": [],
   "source": [
    "from sklearn.metrics import *\n",
    "from sklearn.model_selection import *"
   ]
  },
  {
   "cell_type": "code",
   "execution_count": 14,
   "id": "d03828f4",
   "metadata": {},
   "outputs": [
    {
     "data": {
      "text/html": [
       "<div>\n",
       "<style scoped>\n",
       "    .dataframe tbody tr th:only-of-type {\n",
       "        vertical-align: middle;\n",
       "    }\n",
       "\n",
       "    .dataframe tbody tr th {\n",
       "        vertical-align: top;\n",
       "    }\n",
       "\n",
       "    .dataframe thead th {\n",
       "        text-align: right;\n",
       "    }\n",
       "</style>\n",
       "<table border=\"1\" class=\"dataframe\">\n",
       "  <thead>\n",
       "    <tr style=\"text-align: right;\">\n",
       "      <th></th>\n",
       "      <th>feature0</th>\n",
       "      <th>feature1</th>\n",
       "      <th>feature2</th>\n",
       "      <th>feature3</th>\n",
       "      <th>feature4</th>\n",
       "      <th>feature5</th>\n",
       "      <th>feature6</th>\n",
       "      <th>class</th>\n",
       "    </tr>\n",
       "  </thead>\n",
       "  <tbody>\n",
       "    <tr>\n",
       "      <th>0</th>\n",
       "      <td>8.617386</td>\n",
       "      <td>1.935144</td>\n",
       "      <td>25.212971</td>\n",
       "      <td>20.648995</td>\n",
       "      <td>25.370660</td>\n",
       "      <td>32.910968</td>\n",
       "      <td>29.867382</td>\n",
       "      <td>A</td>\n",
       "    </tr>\n",
       "    <tr>\n",
       "      <th>1</th>\n",
       "      <td>9.323783</td>\n",
       "      <td>7.978308</td>\n",
       "      <td>28.416780</td>\n",
       "      <td>11.173499</td>\n",
       "      <td>30.017304</td>\n",
       "      <td>40.937199</td>\n",
       "      <td>28.534810</td>\n",
       "      <td>A</td>\n",
       "    </tr>\n",
       "    <tr>\n",
       "      <th>2</th>\n",
       "      <td>9.217229</td>\n",
       "      <td>5.086806</td>\n",
       "      <td>9.891921</td>\n",
       "      <td>10.838714</td>\n",
       "      <td>26.422005</td>\n",
       "      <td>38.131975</td>\n",
       "      <td>26.656291</td>\n",
       "      <td>A</td>\n",
       "    </tr>\n",
       "    <tr>\n",
       "      <th>3</th>\n",
       "      <td>5.809597</td>\n",
       "      <td>7.846847</td>\n",
       "      <td>28.956052</td>\n",
       "      <td>10.231720</td>\n",
       "      <td>19.639815</td>\n",
       "      <td>32.219978</td>\n",
       "      <td>20.905991</td>\n",
       "      <td>A</td>\n",
       "    </tr>\n",
       "    <tr>\n",
       "      <th>4</th>\n",
       "      <td>9.027168</td>\n",
       "      <td>7.775159</td>\n",
       "      <td>25.476313</td>\n",
       "      <td>23.714593</td>\n",
       "      <td>23.993034</td>\n",
       "      <td>32.996477</td>\n",
       "      <td>37.529698</td>\n",
       "      <td>A</td>\n",
       "    </tr>\n",
       "  </tbody>\n",
       "</table>\n",
       "</div>"
      ],
      "text/plain": [
       "   feature0  feature1   feature2   feature3   feature4   feature5   feature6  \\\n",
       "0  8.617386  1.935144  25.212971  20.648995  25.370660  32.910968  29.867382   \n",
       "1  9.323783  7.978308  28.416780  11.173499  30.017304  40.937199  28.534810   \n",
       "2  9.217229  5.086806   9.891921  10.838714  26.422005  38.131975  26.656291   \n",
       "3  5.809597  7.846847  28.956052  10.231720  19.639815  32.219978  20.905991   \n",
       "4  9.027168  7.775159  25.476313  23.714593  23.993034  32.996477  37.529698   \n",
       "\n",
       "  class  \n",
       "0     A  \n",
       "1     A  \n",
       "2     A  \n",
       "3     A  \n",
       "4     A  "
      ]
     },
     "execution_count": 14,
     "metadata": {},
     "output_type": "execute_result"
    }
   ],
   "source": [
    "df = pd.read_csv('train_dec04_task2.csv') #讀入訓練資料\n",
    "df.head()"
   ]
  },
  {
   "cell_type": "code",
   "execution_count": 15,
   "id": "57cedc95",
   "metadata": {},
   "outputs": [
    {
     "data": {
      "text/plain": [
       "(4500, 8)"
      ]
     },
     "execution_count": 15,
     "metadata": {},
     "output_type": "execute_result"
    }
   ],
   "source": [
    "df.shape"
   ]
  },
  {
   "cell_type": "code",
   "execution_count": 16,
   "id": "5ecb3712",
   "metadata": {},
   "outputs": [
    {
     "data": {
      "text/plain": [
       "(4500, 7)"
      ]
     },
     "execution_count": 16,
     "metadata": {},
     "output_type": "execute_result"
    }
   ],
   "source": [
    "y = df['class'] #訓練資料的分類結果\n",
    "X = df.drop('class', axis = 1) #X中留下features\n",
    "X.shape"
   ]
  },
  {
   "cell_type": "code",
   "execution_count": 17,
   "id": "3f931878",
   "metadata": {},
   "outputs": [
    {
     "name": "stdout",
     "output_type": "stream",
     "text": [
      "B    2000\n",
      "C    1500\n",
      "A    1000\n",
      "Name: class, dtype: int64\n"
     ]
    },
    {
     "data": {
      "text/plain": [
       "<AxesSubplot:xlabel='class', ylabel='count'>"
      ]
     },
     "execution_count": 17,
     "metadata": {},
     "output_type": "execute_result"
    },
    {
     "data": {
      "image/png": "[encoded data removed]",
      "text/plain": [
       "<Figure size 432x288 with 1 Axes>"
      ]
     },
     "metadata": {
      "needs_background": "light"
     },
     "output_type": "display_data"
    }
   ],
   "source": [
    "#查看三種分類分別的數量(這裡會發現資料imbalance)\n",
    "print(y.value_counts())\n",
    "sns.countplot(x = y)"
   ]
  },
  {
   "cell_type": "code",
   "execution_count": 19,
   "id": "a2675d1d",
   "metadata": {},
   "outputs": [
    {
     "name": "stdout",
     "output_type": "stream",
     "text": [
      "1    2000\n",
      "2    1500\n",
      "0    1000\n",
      "Name: class, dtype: int64\n"
     ]
    },
    {
     "data": {
      "image/png": "[encoded data removed]",
      "text/plain": [
       "<Figure size 432x288 with 1 Axes>"
      ]
     },
     "metadata": {
      "needs_background": "light"
     },
     "output_type": "display_data"
    }
   ],
   "source": [
    "y[0:1000] = 0\n",
    "y[1000:3000] = 1\n",
    "y[3000:4500] = 2\n",
    "print(y.value_counts())\n",
    "sns.countplot(x = y)\n",
    "y = y.astype('int64')"
   ]
  },
  {
   "cell_type": "code",
   "execution_count": 20,
   "id": "2b019165",
   "metadata": {},
   "outputs": [
    {
     "data": {
      "text/plain": [
       "(6000, 7)"
      ]
     },
     "execution_count": 20,
     "metadata": {},
     "output_type": "execute_result"
    }
   ],
   "source": [
    "#用上採樣(OverSampling)處理imbalance資料\n",
    "from imblearn.over_sampling import SMOTE\n",
    "X, y = SMOTE().fit_resample(X, y)\n",
    "X.shape"
   ]
  },
  {
   "cell_type": "code",
   "execution_count": 21,
   "id": "d4090d53",
   "metadata": {},
   "outputs": [
    {
     "name": "stdout",
     "output_type": "stream",
     "text": [
      "0    2000\n",
      "1    2000\n",
      "2    2000\n",
      "Name: class, dtype: int64\n"
     ]
    },
    {
     "data": {
      "text/plain": [
       "<AxesSubplot:xlabel='class', ylabel='count'>"
      ]
     },
     "execution_count": 21,
     "metadata": {},
     "output_type": "execute_result"
    },
    {
     "data": {
      "image/png": "[encoded data removed]",
      "text/plain": [
       "<Figure size 432x288 with 1 Axes>"
      ]
     },
     "metadata": {
      "needs_background": "light"
     },
     "output_type": "display_data"
    }
   ],
   "source": [
    "#確認三個分類在上採樣後確實資料數量一致\n",
    "print(y.value_counts())\n",
    "sns.countplot(x = y)"
   ]
  },
  {
   "cell_type": "code",
   "execution_count": 22,
   "id": "548c9bbd",
   "metadata": {},
   "outputs": [],
   "source": [
    "#訓練資料分割成0.85訓練、0.15測試\n",
    "X1, X2, y1, y2 = train_test_split(X, y, random_state=0, train_size=0.85, test_size=0.15)"
   ]
  },
  {
   "cell_type": "code",
   "execution_count": 23,
   "id": "b9d086ec",
   "metadata": {},
   "outputs": [
    {
     "name": "stderr",
     "output_type": "stream",
     "text": [
      "C:\\Users\\ASUS\\anaconda3\\lib\\site-packages\\xgboost\\sklearn.py:1224: UserWarning: The use of label encoder in XGBClassifier is deprecated and will be removed in a future release. To remove this warning, do the following: 1) Pass option use_label_encoder=False when constructing XGBClassifier object; and 2) Encode your labels (y) as integers starting with 0, i.e. 0, 1, 2, ..., [num_class - 1].\n",
      "  warnings.warn(label_encoder_deprecation_msg, UserWarning)\n",
      "C:\\Users\\ASUS\\anaconda3\\lib\\site-packages\\xgboost\\data.py:250: FutureWarning: pandas.Int64Index is deprecated and will be removed from pandas in a future version. Use pandas.Index with the appropriate dtype instead.\n",
      "  elif isinstance(data.columns, (pd.Int64Index, pd.RangeIndex)):\n"
     ]
    },
    {
     "name": "stdout",
     "output_type": "stream",
     "text": [
      "[21:48:07] WARNING: ..\\src\\learner.cc:1115: Starting in XGBoost 1.3.0, the default evaluation metric used with the objective 'multi:softprob' was changed from 'merror' to 'mlogloss'. Explicitly set eval_metric if you'd like to restore the old behavior.\n",
      "0.8477777777777777\n"
     ]
    }
   ],
   "source": [
    "from xgboost import XGBClassifier\n",
    "\n",
    "# 建立 XGBClassifier 模型\n",
    "xgboostModel = XGBClassifier(n_estimators=100, learning_rate= 0.3)\n",
    "# 使用訓練資料訓練模型\n",
    "xgboostModel.fit(X1, y1)\n",
    "# 使用訓練資料預測分類\n",
    "predicted1 = xgboostModel.predict(X2)\n",
    "\n",
    "print(accuracy_score(y2, predicted1))"
   ]
  },
  {
   "cell_type": "code",
   "execution_count": 25,
   "id": "fc7c318d",
   "metadata": {},
   "outputs": [],
   "source": [
    "df_test = pd.read_csv('test_dec04_task2_only_features.csv') #讀入測試資料"
   ]
  },
  {
   "cell_type": "code",
   "execution_count": 29,
   "id": "95f0d1ef",
   "metadata": {},
   "outputs": [
    {
     "name": "stderr",
     "output_type": "stream",
     "text": [
      "C:\\Users\\ASUS\\anaconda3\\lib\\site-packages\\xgboost\\sklearn.py:1224: UserWarning: The use of label encoder in XGBClassifier is deprecated and will be removed in a future release. To remove this warning, do the following: 1) Pass option use_label_encoder=False when constructing XGBClassifier object; and 2) Encode your labels (y) as integers starting with 0, i.e. 0, 1, 2, ..., [num_class - 1].\n",
      "  warnings.warn(label_encoder_deprecation_msg, UserWarning)\n"
     ]
    },
    {
     "name": "stdout",
     "output_type": "stream",
     "text": [
      "[21:49:19] WARNING: ..\\src\\learner.cc:1115: Starting in XGBoost 1.3.0, the default evaluation metric used with the objective 'multi:softprob' was changed from 'merror' to 'mlogloss'. Explicitly set eval_metric if you'd like to restore the old behavior.\n",
      "[0 0 0 ... 1 2 1]\n"
     ]
    }
   ],
   "source": [
    "# 建立 XGBClassifier 模型\n",
    "xgboostModel = XGBClassifier(n_estimators=100, learning_rate= 0.3)\n",
    "# 使用訓練資料訓練模型\n",
    "xgboostModel.fit(X, y)\n",
    "# 使用訓練資料預測分類\n",
    "predicted_final = xgboostModel.predict(df_test)\n",
    "\n",
    "print(predicted_final)"
   ]
  },
  {
   "cell_type": "code",
   "execution_count": 30,
   "id": "b3688ab1",
   "metadata": {},
   "outputs": [],
   "source": [
    "import csv"
   ]
  },
  {
   "cell_type": "code",
   "execution_count": 31,
   "id": "94611ecf",
   "metadata": {},
   "outputs": [],
   "source": [
    "with open('output_1216.csv', 'w', newline='') as csvfile:\n",
    "  \n",
    "    writer = csv.writer(csvfile)\n",
    "\n",
    "    writer.writerow(['Id', 'Category'])\n",
    "\n",
    "    for i in range(len(predicted_final)):\n",
    "        if predicted_final[i] == 0:\n",
    "            writer.writerow([i + 1, 'A'])\n",
    "        elif predicted_final[i] == 1:\n",
    "            writer.writerow([i + 1, 'B'])\n",
    "        elif predicted_final[i] == 2:\n",
    "            writer.writerow([i + 1, 'C'])"
   ]
  },
  {
   "cell_type": "code",
   "execution_count": null,
   "id": "2820b667",
   "metadata": {},
   "outputs": [],
   "source": []
  }
 ],
 "metadata": {
  "kernelspec": {
   "display_name": "Python 3 (ipykernel)",
   "language": "python",
   "name": "python3"
  },
  "language_info": {
   "codemirror_mode": {
    "name": "ipython",
    "version": 3
   },
   "file_extension": ".py",
   "mimetype": "text/x-python",
   "name": "python",
   "nbconvert_exporter": "python",
   "pygments_lexer": "ipython3",
   "version": "3.9.12"
  }
 },
 "nbformat": 4,
 "nbformat_minor": 5
}
