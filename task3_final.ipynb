{
 "cells": [
  {
   "cell_type": "code",
   "execution_count": 2,
   "id": "232d4341",
   "metadata": {},
   "outputs": [],
   "source": [
    "import numpy as np\n",
    "import pandas as pd \n",
    "from matplotlib import pyplot as plt\n",
    "import seaborn as sns\n",
    "import time"
   ]
  },
  {
   "cell_type": "code",
   "execution_count": 3,
   "id": "d7a6baa4",
   "metadata": {},
   "outputs": [],
   "source": [
    "from sklearn.metrics import *\n",
    "from sklearn.model_selection import *"
   ]
  },
  {
   "cell_type": "code",
   "execution_count": 35,
   "id": "d03828f4",
   "metadata": {},
   "outputs": [
    {
     "data": {
      "text/html": [
       "<div>\n",
       "<style scoped>\n",
       "    .dataframe tbody tr th:only-of-type {\n",
       "        vertical-align: middle;\n",
       "    }\n",
       "\n",
       "    .dataframe tbody tr th {\n",
       "        vertical-align: top;\n",
       "    }\n",
       "\n",
       "    .dataframe thead th {\n",
       "        text-align: right;\n",
       "    }\n",
       "</style>\n",
       "<table border=\"1\" class=\"dataframe\">\n",
       "  <thead>\n",
       "    <tr style=\"text-align: right;\">\n",
       "      <th></th>\n",
       "      <th>feature0</th>\n",
       "      <th>feature1</th>\n",
       "      <th>feature2</th>\n",
       "      <th>feature3</th>\n",
       "      <th>feature4</th>\n",
       "      <th>feature5</th>\n",
       "      <th>feature6</th>\n",
       "      <th>feature7</th>\n",
       "      <th>feature8</th>\n",
       "      <th>feature9</th>\n",
       "      <th>feature10</th>\n",
       "      <th>feature11</th>\n",
       "      <th>feature12</th>\n",
       "      <th>feature13</th>\n",
       "      <th>class</th>\n",
       "    </tr>\n",
       "  </thead>\n",
       "  <tbody>\n",
       "    <tr>\n",
       "      <th>0</th>\n",
       "      <td>7.172849</td>\n",
       "      <td>8.368236</td>\n",
       "      <td>5.060625</td>\n",
       "      <td>9.193188</td>\n",
       "      <td>6.179376</td>\n",
       "      <td>10.539020</td>\n",
       "      <td>10.253188</td>\n",
       "      <td>5.757787</td>\n",
       "      <td>7.093782</td>\n",
       "      <td>11.982133</td>\n",
       "      <td>0.142851</td>\n",
       "      <td>2.466842</td>\n",
       "      <td>5.538548</td>\n",
       "      <td>6.676509</td>\n",
       "      <td>A</td>\n",
       "    </tr>\n",
       "    <tr>\n",
       "      <th>1</th>\n",
       "      <td>4.191168</td>\n",
       "      <td>5.897300</td>\n",
       "      <td>4.087733</td>\n",
       "      <td>9.018442</td>\n",
       "      <td>8.246369</td>\n",
       "      <td>9.351617</td>\n",
       "      <td>7.841548</td>\n",
       "      <td>9.185678</td>\n",
       "      <td>10.275072</td>\n",
       "      <td>3.374108</td>\n",
       "      <td>4.158709</td>\n",
       "      <td>4.094037</td>\n",
       "      <td>5.944785</td>\n",
       "      <td>5.446690</td>\n",
       "      <td>A</td>\n",
       "    </tr>\n",
       "    <tr>\n",
       "      <th>2</th>\n",
       "      <td>5.345508</td>\n",
       "      <td>5.168657</td>\n",
       "      <td>5.975201</td>\n",
       "      <td>5.646929</td>\n",
       "      <td>12.913498</td>\n",
       "      <td>7.377864</td>\n",
       "      <td>4.754143</td>\n",
       "      <td>5.221510</td>\n",
       "      <td>9.673443</td>\n",
       "      <td>10.226155</td>\n",
       "      <td>5.771919</td>\n",
       "      <td>5.095369</td>\n",
       "      <td>4.272498</td>\n",
       "      <td>6.992482</td>\n",
       "      <td>A</td>\n",
       "    </tr>\n",
       "    <tr>\n",
       "      <th>3</th>\n",
       "      <td>8.284880</td>\n",
       "      <td>7.280406</td>\n",
       "      <td>6.371599</td>\n",
       "      <td>5.113472</td>\n",
       "      <td>12.724496</td>\n",
       "      <td>12.548256</td>\n",
       "      <td>6.277546</td>\n",
       "      <td>1.745729</td>\n",
       "      <td>4.377580</td>\n",
       "      <td>3.202658</td>\n",
       "      <td>2.271156</td>\n",
       "      <td>3.561469</td>\n",
       "      <td>5.116181</td>\n",
       "      <td>6.809364</td>\n",
       "      <td>A</td>\n",
       "    </tr>\n",
       "    <tr>\n",
       "      <th>4</th>\n",
       "      <td>5.246311</td>\n",
       "      <td>7.267519</td>\n",
       "      <td>4.256374</td>\n",
       "      <td>8.625228</td>\n",
       "      <td>15.476709</td>\n",
       "      <td>6.928250</td>\n",
       "      <td>11.210572</td>\n",
       "      <td>4.053110</td>\n",
       "      <td>7.017755</td>\n",
       "      <td>2.530820</td>\n",
       "      <td>3.627361</td>\n",
       "      <td>6.074664</td>\n",
       "      <td>4.488416</td>\n",
       "      <td>5.356890</td>\n",
       "      <td>A</td>\n",
       "    </tr>\n",
       "  </tbody>\n",
       "</table>\n",
       "</div>"
      ],
      "text/plain": [
       "   feature0  feature1  feature2  feature3   feature4   feature5   feature6  \\\n",
       "0  7.172849  8.368236  5.060625  9.193188   6.179376  10.539020  10.253188   \n",
       "1  4.191168  5.897300  4.087733  9.018442   8.246369   9.351617   7.841548   \n",
       "2  5.345508  5.168657  5.975201  5.646929  12.913498   7.377864   4.754143   \n",
       "3  8.284880  7.280406  6.371599  5.113472  12.724496  12.548256   6.277546   \n",
       "4  5.246311  7.267519  4.256374  8.625228  15.476709   6.928250  11.210572   \n",
       "\n",
       "   feature7   feature8   feature9  feature10  feature11  feature12  feature13  \\\n",
       "0  5.757787   7.093782  11.982133   0.142851   2.466842   5.538548   6.676509   \n",
       "1  9.185678  10.275072   3.374108   4.158709   4.094037   5.944785   5.446690   \n",
       "2  5.221510   9.673443  10.226155   5.771919   5.095369   4.272498   6.992482   \n",
       "3  1.745729   4.377580   3.202658   2.271156   3.561469   5.116181   6.809364   \n",
       "4  4.053110   7.017755   2.530820   3.627361   6.074664   4.488416   5.356890   \n",
       "\n",
       "  class  \n",
       "0     A  \n",
       "1     A  \n",
       "2     A  \n",
       "3     A  \n",
       "4     A  "
      ]
     },
     "execution_count": 35,
     "metadata": {},
     "output_type": "execute_result"
    }
   ],
   "source": [
    "df = pd.read_csv('train_dec08_task3.csv') #讀入訓練資料\n",
    "df.head()"
   ]
  },
  {
   "cell_type": "code",
   "execution_count": 36,
   "id": "57cedc95",
   "metadata": {},
   "outputs": [
    {
     "data": {
      "text/plain": [
       "(6500, 15)"
      ]
     },
     "execution_count": 36,
     "metadata": {},
     "output_type": "execute_result"
    }
   ],
   "source": [
    "df.shape"
   ]
  },
  {
   "cell_type": "code",
   "execution_count": 37,
   "id": "5ecb3712",
   "metadata": {},
   "outputs": [
    {
     "data": {
      "text/plain": [
       "(6500, 14)"
      ]
     },
     "execution_count": 37,
     "metadata": {},
     "output_type": "execute_result"
    }
   ],
   "source": [
    "y = df['class'] #訓練資料的分類結果\n",
    "X = df.drop('class', axis = 1) #X中留下features\n",
    "X.shape"
   ]
  },
  {
   "cell_type": "code",
   "execution_count": 38,
   "id": "8edde0e9",
   "metadata": {},
   "outputs": [
    {
     "name": "stdout",
     "output_type": "stream",
     "text": [
      "C    2500\n",
      "B    2000\n",
      "A    1000\n",
      "D    1000\n",
      "Name: class, dtype: int64\n"
     ]
    },
    {
     "data": {
      "text/plain": [
       "<AxesSubplot:xlabel='class', ylabel='count'>"
      ]
     },
     "execution_count": 38,
     "metadata": {},
     "output_type": "execute_result"
    },
    {
     "data": {
      "image/png": "[encoded data removed]",
      "text/plain": [
       "<Figure size 432x288 with 1 Axes>"
      ]
     },
     "metadata": {
      "needs_background": "light"
     },
     "output_type": "display_data"
    }
   ],
   "source": [
    "#查看三種分類分別的數量(這裡會發現資料imbalance)\n",
    "print(y.value_counts())\n",
    "sns.countplot(x = y)"
   ]
  },
  {
   "cell_type": "code",
   "execution_count": 39,
   "id": "41a8f988",
   "metadata": {},
   "outputs": [
    {
     "name": "stdout",
     "output_type": "stream",
     "text": [
      "2    2500\n",
      "1    2000\n",
      "0    1000\n",
      "3    1000\n",
      "Name: class, dtype: int64\n"
     ]
    },
    {
     "name": "stderr",
     "output_type": "stream",
     "text": [
      "C:\\Users\\ASUS\\AppData\\Local\\Temp\\ipykernel_21832\\503688296.py:1: SettingWithCopyWarning: \n",
      "A value is trying to be set on a copy of a slice from a DataFrame\n",
      "\n",
      "See the caveats in the documentation: https://pandas.pydata.org/pandas-docs/stable/user_guide/indexing.html#returning-a-view-versus-a-copy\n",
      "  y[0:1000] = 0\n",
      "C:\\Users\\ASUS\\AppData\\Local\\Temp\\ipykernel_21832\\503688296.py:2: SettingWithCopyWarning: \n",
      "A value is trying to be set on a copy of a slice from a DataFrame\n",
      "\n",
      "See the caveats in the documentation: https://pandas.pydata.org/pandas-docs/stable/user_guide/indexing.html#returning-a-view-versus-a-copy\n",
      "  y[1000:3000] = 1\n",
      "C:\\Users\\ASUS\\AppData\\Local\\Temp\\ipykernel_21832\\503688296.py:3: SettingWithCopyWarning: \n",
      "A value is trying to be set on a copy of a slice from a DataFrame\n",
      "\n",
      "See the caveats in the documentation: https://pandas.pydata.org/pandas-docs/stable/user_guide/indexing.html#returning-a-view-versus-a-copy\n",
      "  y[3000:5500] = 2\n",
      "C:\\Users\\ASUS\\AppData\\Local\\Temp\\ipykernel_21832\\503688296.py:4: SettingWithCopyWarning: \n",
      "A value is trying to be set on a copy of a slice from a DataFrame\n",
      "\n",
      "See the caveats in the documentation: https://pandas.pydata.org/pandas-docs/stable/user_guide/indexing.html#returning-a-view-versus-a-copy\n",
      "  y[5500:6500] = 3\n"
     ]
    },
    {
     "data": {
      "image/png": "[encoded data removed]",
      "text/plain": [
       "<Figure size 432x288 with 1 Axes>"
      ]
     },
     "metadata": {
      "needs_background": "light"
     },
     "output_type": "display_data"
    }
   ],
   "source": [
    "y[0:1000] = 0\n",
    "y[1000:3000] = 1\n",
    "y[3000:5500] = 2\n",
    "y[5500:6500] = 3\n",
    "print(y.value_counts())\n",
    "sns.countplot(x = y)\n",
    "y = y.astype('int64')"
   ]
  },
  {
   "cell_type": "code",
   "execution_count": 40,
   "id": "2b019165",
   "metadata": {},
   "outputs": [
    {
     "data": {
      "text/plain": [
       "(10000, 14)"
      ]
     },
     "execution_count": 40,
     "metadata": {},
     "output_type": "execute_result"
    }
   ],
   "source": [
    "#用上採樣(OverSampling)處理imbalance資料\n",
    "from imblearn.over_sampling import SMOTE\n",
    "X, y = SMOTE().fit_resample(X, y)\n",
    "X.shape"
   ]
  },
  {
   "cell_type": "code",
   "execution_count": 41,
   "id": "ad29117f",
   "metadata": {},
   "outputs": [
    {
     "name": "stdout",
     "output_type": "stream",
     "text": [
      "0    2500\n",
      "1    2500\n",
      "2    2500\n",
      "3    2500\n",
      "Name: class, dtype: int64\n"
     ]
    },
    {
     "data": {
      "text/plain": [
       "<AxesSubplot:xlabel='class', ylabel='count'>"
      ]
     },
     "execution_count": 41,
     "metadata": {},
     "output_type": "execute_result"
    },
    {
     "data": {
      "image/png": "[encoded data removed]",
      "text/plain": [
       "<Figure size 432x288 with 1 Axes>"
      ]
     },
     "metadata": {
      "needs_background": "light"
     },
     "output_type": "display_data"
    }
   ],
   "source": [
    "#確認三個分類在上採樣後確實資料數量一致\n",
    "print(y.value_counts())\n",
    "sns.countplot(x = y)"
   ]
  },
  {
   "cell_type": "code",
   "execution_count": 42,
   "id": "548c9bbd",
   "metadata": {},
   "outputs": [],
   "source": [
    "# 將只有10個features的資料分割成0.85訓練、0.15測試\n",
    "X1, X2, y1, y2 = train_test_split(X, y, random_state=0, train_size=0.85, test_size=0.15)"
   ]
  },
  {
   "cell_type": "code",
   "execution_count": 45,
   "id": "0d1a8ac8",
   "metadata": {},
   "outputs": [
    {
     "name": "stderr",
     "output_type": "stream",
     "text": [
      "C:\\Users\\ASUS\\anaconda3\\lib\\site-packages\\xgboost\\sklearn.py:1224: UserWarning: The use of label encoder in XGBClassifier is deprecated and will be removed in a future release. To remove this warning, do the following: 1) Pass option use_label_encoder=False when constructing XGBClassifier object; and 2) Encode your labels (y) as integers starting with 0, i.e. 0, 1, 2, ..., [num_class - 1].\n",
      "  warnings.warn(label_encoder_deprecation_msg, UserWarning)\n",
      "C:\\Users\\ASUS\\anaconda3\\lib\\site-packages\\xgboost\\data.py:250: FutureWarning: pandas.Int64Index is deprecated and will be removed from pandas in a future version. Use pandas.Index with the appropriate dtype instead.\n",
      "  elif isinstance(data.columns, (pd.Int64Index, pd.RangeIndex)):\n"
     ]
    },
    {
     "name": "stdout",
     "output_type": "stream",
     "text": [
      "[22:14:48] WARNING: ..\\src\\learner.cc:1115: Starting in XGBoost 1.3.0, the default evaluation metric used with the objective 'multi:softprob' was changed from 'merror' to 'mlogloss'. Explicitly set eval_metric if you'd like to restore the old behavior.\n",
      "0.8606666666666667\n",
      "[0.05084631 0.03792282 0.17008935 0.20422463 0.12117885 0.13367169\n",
      " 0.08028346 0.02935114 0.02962214 0.02799234 0.03069042 0.028413\n",
      " 0.02730431 0.02840954]\n"
     ]
    }
   ],
   "source": [
    "from xgboost import XGBClassifier\n",
    "\n",
    "# 建立 XGBClassifier 模型\n",
    "xgboostModel = XGBClassifier(n_estimators=100, learning_rate= 0.3)\n",
    "# 使用訓練資料訓練模型\n",
    "xgboostModel.fit(X1, y1)\n",
    "# 使用訓練資料預測分類\n",
    "predicted1 = xgboostModel.predict(X2)\n",
    "\n",
    "print(accuracy_score(y2, predicted1))\n",
    "print(xgboostModel.feature_importances_)\n"
   ]
  },
  {
   "cell_type": "code",
   "execution_count": 46,
   "id": "3b0a83d2",
   "metadata": {},
   "outputs": [
    {
     "data": {
      "image/png": "[encoded data removed]",
      "text/plain": [
       "<Figure size 432x288 with 1 Axes>"
      ]
     },
     "metadata": {
      "needs_background": "light"
     },
     "output_type": "display_data"
    }
   ],
   "source": [
    "plt.bar(range(len(xgboostModel.feature_importances_)), xgboostModel.feature_importances_)\n",
    "plt.show()"
   ]
  },
  {
   "cell_type": "code",
   "execution_count": 51,
   "id": "fc7c318d",
   "metadata": {},
   "outputs": [],
   "source": [
    "#讀入測試資料並且只挑選前10名的features\n",
    "df_test = pd.read_csv('test_dec08_task3_only_features.csv')\n",
    "X_features = X[['feature3', 'feature2', 'feature5', 'feature4', 'feature6', 'feature0', 'feature1', 'feature10', 'feature8', 'feature7']]\n",
    "test_features = df_test[['feature3', 'feature2', 'feature5', 'feature4', 'feature6', 'feature0', 'feature1', 'feature10', 'feature8', 'feature7']]"
   ]
  },
  {
   "cell_type": "code",
   "execution_count": 52,
   "id": "e395044a",
   "metadata": {},
   "outputs": [
    {
     "name": "stderr",
     "output_type": "stream",
     "text": [
      "C:\\Users\\ASUS\\anaconda3\\lib\\site-packages\\xgboost\\sklearn.py:1224: UserWarning: The use of label encoder in XGBClassifier is deprecated and will be removed in a future release. To remove this warning, do the following: 1) Pass option use_label_encoder=False when constructing XGBClassifier object; and 2) Encode your labels (y) as integers starting with 0, i.e. 0, 1, 2, ..., [num_class - 1].\n",
      "  warnings.warn(label_encoder_deprecation_msg, UserWarning)\n",
      "C:\\Users\\ASUS\\anaconda3\\lib\\site-packages\\xgboost\\data.py:250: FutureWarning: pandas.Int64Index is deprecated and will be removed from pandas in a future version. Use pandas.Index with the appropriate dtype instead.\n",
      "  elif isinstance(data.columns, (pd.Int64Index, pd.RangeIndex)):\n"
     ]
    },
    {
     "name": "stdout",
     "output_type": "stream",
     "text": [
      "[22:18:37] WARNING: ..\\src\\learner.cc:1115: Starting in XGBoost 1.3.0, the default evaluation metric used with the objective 'multi:softprob' was changed from 'merror' to 'mlogloss'. Explicitly set eval_metric if you'd like to restore the old behavior.\n",
      "[3 1 1 ... 2 0 2]\n"
     ]
    }
   ],
   "source": [
    "# 建立 XGBClassifier 模型\n",
    "xgboostModel = XGBClassifier(n_estimators=100, learning_rate= 0.3)\n",
    "# 使用訓練資料訓練模型\n",
    "xgboostModel.fit(X_features, y)\n",
    "# 使用訓練資料預測分類\n",
    "predicted_final = xgboostModel.predict(test_features)\n",
    "\n",
    "print(predicted_final)"
   ]
  },
  {
   "cell_type": "code",
   "execution_count": 53,
   "id": "b3688ab1",
   "metadata": {},
   "outputs": [],
   "source": [
    "import csv"
   ]
  },
  {
   "cell_type": "code",
   "execution_count": 54,
   "id": "210369ac",
   "metadata": {},
   "outputs": [],
   "source": [
    "with open('output_1216_3.csv', 'w', newline='') as csvfile:\n",
    "  \n",
    "    writer = csv.writer(csvfile)\n",
    "\n",
    "    writer.writerow(['Id', 'Category'])\n",
    "\n",
    "    for i in range(len(predicted_final)):\n",
    "        if predicted_final[i] == 0:\n",
    "            writer.writerow([i + 1, 'A'])\n",
    "        elif predicted_final[i] == 1:\n",
    "            writer.writerow([i + 1, 'B'])\n",
    "        elif predicted_final[i] == 2:\n",
    "            writer.writerow([i + 1, 'C'])\n",
    "        elif predicted_final[i] == 3:\n",
    "            writer.writerow([i + 1, 'D'])"
   ]
  },
  {
   "cell_type": "code",
   "execution_count": null,
   "id": "2820b667",
   "metadata": {},
   "outputs": [],
   "source": []
  }
 ],
 "metadata": {
  "kernelspec": {
   "display_name": "Python 3 (ipykernel)",
   "language": "python",
   "name": "python3"
  },
  "language_info": {
   "codemirror_mode": {
    "name": "ipython",
    "version": 3
   },
   "file_extension": ".py",
   "mimetype": "text/x-python",
   "name": "python",
   "nbconvert_exporter": "python",
   "pygments_lexer": "ipython3",
   "version": "3.9.13"
  }
 },
 "nbformat": 4,
 "nbformat_minor": 5
}
